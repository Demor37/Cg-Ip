{
 "cells": [
  {
   "cell_type": "code",
   "execution_count": 1,
   "id": "a15361d0-f3d6-469e-90d5-db12673734d6",
   "metadata": {},
   "outputs": [
    {
     "name": "stdout",
     "output_type": "stream",
     "text": [
      "pygame 2.6.0 (SDL 2.28.4, Python 3.11.5)\n",
      "Hello from the pygame community. https://www.pygame.org/contribute.html\n"
     ]
    }
   ],
   "source": [
    "# Instructions:\n",
    "# 1. Make sure you have Python installed on your system.\n",
    "# 2. Install the required library by running the following command in your terminal or command prompt:\n",
    "#    pip install pygame\n",
    "\n",
    "import pygame\n",
    "import random\n",
    "\n",
    "# Initialize Pygame\n",
    "pygame.init()\n",
    "\n",
    "# Set up the display\n",
    "screen_width = 800\n",
    "screen_height = 600\n",
    "screen = pygame.display.set_mode((screen_width, screen_height))\n",
    "pygame.display.set_caption(\"Animation Effects\")\n",
    "\n",
    "# Define colors\n",
    "BLACK = (0, 0, 0)\n",
    "WHITE = (255, 255, 255)\n",
    "RED = (255, 0, 0)\n",
    "GREEN = (0, 255, 0)\n",
    "BLUE = (0, 0, 255)\n",
    "\n",
    "# Define object properties\n",
    "num_objects = 10\n",
    "objects = []\n",
    "\n",
    "for _ in range(num_objects):\n",
    "    x = random.randint(50, screen_width - 50)\n",
    "    y = random.randint(50, screen_height - 50)\n",
    "    radius = random.randint(10, 30)\n",
    "    color = random.choice([RED, GREEN, BLUE])\n",
    "    speed_x = random.randint(-5, 5)\n",
    "    speed_y = random.randint(-5, 5)\n",
    "    objects.append({\n",
    "        \"x\": x,\n",
    "        \"y\": y,\n",
    "        \"radius\": radius,\n",
    "        \"color\": color,\n",
    "        \"speed_x\": speed_x,\n",
    "        \"speed_y\": speed_y\n",
    "    })\n",
    "\n",
    "# Main loop\n",
    "running = True\n",
    "clock = pygame.time.Clock()\n",
    "\n",
    "while running:\n",
    "    # Handle events\n",
    "    for event in pygame.event.get():\n",
    "        if event.type == pygame.QUIT:\n",
    "            running = False\n",
    "\n",
    "    # Clear the screen\n",
    "    screen.fill(WHITE)\n",
    "\n",
    "    # Update and draw objects\n",
    "    for obj in objects:\n",
    "        # Move the object\n",
    "        obj[\"x\"] += obj[\"speed_x\"]\n",
    "        obj[\"y\"] += obj[\"speed_y\"]\n",
    "\n",
    "        # Bounce off the edges\n",
    "        if obj[\"x\"] - obj[\"radius\"] < 0 or obj[\"x\"] + obj[\"radius\"] > screen_width:\n",
    "            obj[\"speed_x\"] = -obj[\"speed_x\"]\n",
    "        if obj[\"y\"] - obj[\"radius\"] < 0 or obj[\"y\"] + obj[\"radius\"] > screen_height:\n",
    "            obj[\"speed_y\"] = -obj[\"speed_y\"]\n",
    "\n",
    "        # Draw the object\n",
    "        pygame.draw.circle(screen, obj[\"color\"], (obj[\"x\"], obj[\"y\"]), obj[\"radius\"])\n",
    "\n",
    "    # Update the display\n",
    "    pygame.display.flip()\n",
    "    clock.tick(60)  # Limit the frame rate to 60 FPS\n",
    "\n",
    "# Quit Pygame\n",
    "pygame.quit()\n"
   ]
  },
  {
   "cell_type": "code",
   "execution_count": null,
   "id": "71e0c819-efde-4671-94d2-607c52eb1cea",
   "metadata": {},
   "outputs": [],
   "source": []
  }
 ],
 "metadata": {
  "kernelspec": {
   "display_name": "Python 3 (ipykernel)",
   "language": "python",
   "name": "python3"
  },
  "language_info": {
   "codemirror_mode": {
    "name": "ipython",
    "version": 3
   },
   "file_extension": ".py",
   "mimetype": "text/x-python",
   "name": "python",
   "nbconvert_exporter": "python",
   "pygments_lexer": "ipython3",
   "version": "3.11.5"
  }
 },
 "nbformat": 4,
 "nbformat_minor": 5
}
