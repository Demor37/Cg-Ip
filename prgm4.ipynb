{
 "cells": [
  {
   "cell_type": "code",
   "execution_count": 1,
   "id": "e5d42b46-1545-49da-9638-d1c4019ed6de",
   "metadata": {},
   "outputs": [],
   "source": [
    "# Instructions:\n",
    "# 1. Make sure you have Python installed on your system.\n",
    "# 2. Install the required libraries by running the following commands in your terminal or command prompt:\n",
    "#    pip install opencv-python\n",
    "#    pip install numpy\n",
    "\n",
    "import cv2\n",
    "import numpy as np\n",
    "\n",
    "# Define the dimensions of the canvas\n",
    "canvas_width = 500\n",
    "canvas_height = 500\n",
    "\n",
    "# Create a blank canvas\n",
    "canvas = np.ones((canvas_height, canvas_width, 3), dtype=np.uint8) * 255\n",
    "\n",
    "# Define the initial object (a square)\n",
    "obj_points = np.array([[100, 100], [200, 100], [200, 200], [100, 200]], dtype=np.int32)\n",
    "\n",
    "# Define the transformation matrices\n",
    "translation_matrix = np.float32([[1, 0, 100], [0, 1, 50]])\n",
    "rotation_matrix = cv2.getRotationMatrix2D((150, 150), 45, 1)\n",
    "scaling_matrix = np.float32([[1.5, 0, 0], [0, 1.5, 0]])\n",
    "\n",
    "# Apply transformations\n",
    "translated_obj = np.array([np.dot(translation_matrix, [x, y, 1])[:2] for x, y in obj_points], dtype=np.int32)\n",
    "rotated_obj = np.array([np.dot(rotation_matrix, [x, y, 1])[:2] for x, y in translated_obj], dtype=np.int32)\n",
    "scaled_obj = np.array([np.dot(scaling_matrix, [x, y, 1])[:2] for x, y in rotated_obj], dtype=np.int32)\n",
    "\n",
    "# Draw the objects on the canvas\n",
    "cv2.polylines(canvas, [obj_points], True, (0, 0, 0), 2)  # Original object (Black)\n",
    "cv2.polylines(canvas, [translated_obj], True, (0, 255, 0), 2)  # Translated object (Green)\n",
    "cv2.polylines(canvas, [rotated_obj], True, (255, 0, 0), 2)  # Rotated object (Blue)\n",
    "cv2.polylines(canvas, [scaled_obj], True, (0, 0, 255), 2)  # Scaled object (Red)\n",
    "\n",
    "# Display the canvas\n",
    "cv2.imshow(\"2D Transformations\", canvas)\n",
    "cv2.waitKey(0)\n",
    "cv2.destroyAllWindows()\n"
   ]
  },
  {
   "cell_type": "code",
   "execution_count": null,
   "id": "0e2b37d7-6f8f-4225-96da-da6b1bcc2aae",
   "metadata": {},
   "outputs": [],
   "source": []
  }
 ],
 "metadata": {
  "kernelspec": {
   "display_name": "Python 3 (ipykernel)",
   "language": "python",
   "name": "python3"
  },
  "language_info": {
   "codemirror_mode": {
    "name": "ipython",
    "version": 3
   },
   "file_extension": ".py",
   "mimetype": "text/x-python",
   "name": "python",
   "nbconvert_exporter": "python",
   "pygments_lexer": "ipython3",
   "version": "3.11.5"
  }
 },
 "nbformat": 4,
 "nbformat_minor": 5
}
