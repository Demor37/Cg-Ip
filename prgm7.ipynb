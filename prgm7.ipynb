{
 "cells": [
  {
   "cell_type": "code",
   "execution_count": 5,
   "id": "2bb4f981-1fef-477c-8292-476a39bc4a00",
   "metadata": {},
   "outputs": [],
   "source": [
    "# \"C:\\\\Users\\\\cheta\\\\OneDrive\\\\Pictures\\\\Screenshots\\\\cg.png\"\n",
    "import cv2\n",
    "import numpy as np\n",
    "\n",
    "# Load the image\n",
    "image_path = \"C:\\\\Users\\\\cheta\\\\OneDrive\\\\Pictures\\\\Screenshots\\\\cg.png\"  # Replace with your image path\n",
    "image = cv2.imread(image_path)\n",
    "\n",
    "# Check if image loading was successful\n",
    "if image is None:\n",
    "    print(f\"Error: Unable to load image from {image_path}\")\n",
    "else:\n",
    "    # Get image dimensions\n",
    "    height, width = image.shape[:2]\n",
    "\n",
    "    # Split the image into 4 quadrants\n",
    "    center_x, center_y = width // 2, height // 2\n",
    "\n",
    "    # Define quadrants\n",
    "    top_left = image[0:center_y, 0:center_x]\n",
    "    top_right = image[0:center_y, center_x:width]\n",
    "    bottom_left = image[center_y:height, 0:center_x]\n",
    "    bottom_right = image[center_y:height, center_x:width]\n",
    "\n",
    "    # Display each quadrant\n",
    "    cv2.imshow('Top Left Quadrant', top_left)\n",
    "    cv2.imshow('Top Right Quadrant', top_right)\n",
    "    cv2.imshow('Bottom Left Quadrant', bottom_left)\n",
    "    cv2.imshow('Bottom Right Quadrant', bottom_right)\n",
    "\n",
    "    # Wait for user input and close windows\n",
    "    cv2.waitKey(0)\n",
    "    cv2.destroyAllWindows()\n",
    "\n",
    "\n"
   ]
  },
  {
   "cell_type": "code",
   "execution_count": null,
   "id": "29998873-d897-4e2d-a7ec-70c89fd26bfb",
   "metadata": {},
   "outputs": [],
   "source": []
  }
 ],
 "metadata": {
  "kernelspec": {
   "display_name": "Python 3 (ipykernel)",
   "language": "python",
   "name": "python3"
  },
  "language_info": {
   "codemirror_mode": {
    "name": "ipython",
    "version": 3
   },
   "file_extension": ".py",
   "mimetype": "text/x-python",
   "name": "python",
   "nbconvert_exporter": "python",
   "pygments_lexer": "ipython3",
   "version": "3.11.5"
  }
 },
 "nbformat": 4,
 "nbformat_minor": 5
}
