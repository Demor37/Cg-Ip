{
 "cells": [
  {
   "cell_type": "code",
   "execution_count": null,
   "id": "30907b27-896d-4e98-b8f4-9eb4a9d385da",
   "metadata": {},
   "outputs": [
    {
     "data": {
      "text/html": [
       "<div id=\"glowscript\" class=\"glowscript\"></div>"
      ],
      "text/plain": [
       "<IPython.core.display.HTML object>"
      ]
     },
     "metadata": {},
     "output_type": "display_data"
    },
    {
     "data": {
      "application/javascript": [
       "if (typeof Jupyter !== \"undefined\") { window.__context = { glowscript_container: $(\"#glowscript\").removeAttr(\"id\")};}else{ element.textContent = ' ';}"
      ],
      "text/plain": [
       "<IPython.core.display.Javascript object>"
      ]
     },
     "metadata": {},
     "output_type": "display_data"
    },
    {
     "data": {
      "text/html": [
       "<div id=\"glowscript\" class=\"glowscript\"></div>"
      ],
      "text/plain": [
       "<IPython.core.display.HTML object>"
      ]
     },
     "metadata": {},
     "output_type": "display_data"
    },
    {
     "data": {
      "application/javascript": [
       "if (typeof Jupyter !== \"undefined\") { window.__context = { glowscript_container: $(\"#glowscript\").removeAttr(\"id\")};}else{ element.textContent = ' ';}"
      ],
      "text/plain": [
       "<IPython.core.display.Javascript object>"
      ]
     },
     "metadata": {},
     "output_type": "display_data"
    }
   ],
   "source": [
    "# This program demonstrates basic geometric operations on 3D objects using vpython.\n",
    "\n",
    "# Step 1: Ensure you have vpython installed.\n",
    "# You can install it using pip. Uncomment and run the following command in your terminal:\n",
    "# !pip install vpython\n",
    "from vpython import canvas, box, cylinder, vector, color, rate\n",
    "\n",
    "# Create a 3D canvas\n",
    "scene = canvas(width=800, height=600, background=color.white)\n",
    "\n",
    "# Define a function to draw a cuboid\n",
    "def draw_cuboid(pos, length, width, height, color):\n",
    "    cuboid = box(pos=vector(*pos), length=length, width=width, height=height, color=color)\n",
    "    return cuboid\n",
    "\n",
    "# Define a function to draw a cylinder\n",
    "def draw_cylinder(pos, radius, height, color):\n",
    "    cyl = cylinder(pos=vector(*pos), radius=radius, length=height, color=color)\n",
    "    return cyl\n",
    "\n",
    "# Define a function to translate a 3D object\n",
    "def translate(obj, dx, dy, dz):\n",
    "    obj.pos += vector(dx, dy, dz)\n",
    "\n",
    "# Define a function to rotate a 3D object\n",
    "def rotate(obj, angle, axis):\n",
    "    obj.rotate(angle=angle * (3.14159 / 180), axis=vector(*axis))  # Convert angle to radians\n",
    "\n",
    "# Define a function to scale a 3D object\n",
    "def scale(obj, sx, sy, sz):\n",
    "    obj.size = vector(obj.size.x * sx, obj.size.y * sy, obj.size.z * sz)\n",
    "\n",
    "# Draw a cuboid\n",
    "cuboid = draw_cuboid(pos=(-2, 0, 0), length=2, width=2, height=2, color=color.blue)\n",
    "\n",
    "# Translate the cuboid\n",
    "translate(cuboid, 4, 0, 0)\n",
    "\n",
    "# Rotate the cuboid\n",
    "rotate(cuboid, angle=45, axis=(0, 1, 0))\n",
    "\n",
    "# Scale the cuboid\n",
    "scale(cuboid, 1.5, 1.5, 1.5)\n",
    "\n",
    "# Draw a cylinder\n",
    "cyl = draw_cylinder(pos=(2, 2, 0), radius=1, height=10, color=color.red)\n",
    "\n",
    "# Translate the cylinder\n",
    "translate(cyl, 0, -2, 0)\n",
    "\n",
    "# Rotate the cylinder\n",
    "rotate(cyl, angle=30, axis=(1, 0, 0))\n",
    "\n",
    "# Scale the cylinder\n",
    "scale(cyl, 1.5, 1.5, 1.5)\n",
    "\n",
    "# Keep the 3D scene interactive\n",
    "while True:\n",
    "    rate(30)  # Set the frame rate to 30 frames per second\n"
   ]
  },
  {
   "cell_type": "code",
   "execution_count": null,
   "id": "3f299693-e9c0-44d1-be30-864bbcc71d72",
   "metadata": {},
   "outputs": [],
   "source": []
  }
 ],
 "metadata": {
  "kernelspec": {
   "display_name": "Python 3 (ipykernel)",
   "language": "python",
   "name": "python3"
  },
  "language_info": {
   "codemirror_mode": {
    "name": "ipython",
    "version": 3
   },
   "file_extension": ".py",
   "mimetype": "text/x-python",
   "name": "python",
   "nbconvert_exporter": "python",
   "pygments_lexer": "ipython3",
   "version": "3.11.5"
  }
 },
 "nbformat": 4,
 "nbformat_minor": 5
}
